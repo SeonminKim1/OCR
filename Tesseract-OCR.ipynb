{
 "cells": [
  {
   "cell_type": "markdown",
   "metadata": {},
   "source": [
    "## Tesseract로 OCR 하기\n",
    "- 다양한 운영체제에서 사용가능한 광학 문자 인식 엔진.\n",
    "- https://github.com/UB-Mannheim/tesseract/wiki // Window 프로그램에 설치 및 환경변수 등록\n",
    "\n",
    "## Tesseract-OCR 구동 방법\n",
    "\n",
    "### 1. Tesseract Windows 버전 설치\n",
    "- https://github.com/UB-Mannheim/tesseract/wiki\n",
    "- 설치시 한국어 버전 설치\n",
    "\n",
    "### 2. 환경변수 등록\n",
    "- 설치 폴더 환경변수 등록\n",
    "\n",
    "### 3. python, anaconda 명령어로 설치\n",
    "- conda install -c conda-forge pytesseract\n",
    "\n",
    "### 4. 한글 OCR Trainin data 추가 다운로드\n",
    "- https://github.com/tesseract-ocr/ 링크 이용\n",
    "- testdata의 kor.traineddata와 kor_vert.traineddata 다운로드 후 \n",
    "- C:\\Program Files\\Tesseract-OCR\\tessdata 링크에서 파일변경"
   ]
  },
  {
   "cell_type": "code",
   "execution_count": 2,
   "metadata": {},
   "outputs": [
    {
     "name": "stdout",
     "output_type": "stream",
     "text": [
      "#ㅇ8(이24031113138600901400)\n",
      "\n",
      "\n",
      "\n",
      "문자인식(008,000063다38600901400)은사람이쓰거나기계로인쇄한\n",
      "자의영상을이미지스캐너로획득하여기계가읽을수있+로변환하는것\n",
      "\n",
      "\n",
      "\n",
      "＊글자영역탐지(6606160400)와**글자인식061600901000)**의두단계과정을\n",
      "거침\n",
      "\f",
      "\n"
     ]
    }
   ],
   "source": [
    "\"\"\"\n",
    "Tesseract - OCR 프로그램 중 하나, 다양한 운영체제에서 사용할 수 있는 엔진, 무료 소프트웨어\n",
    "\n",
    "이미지에 있는 텍스트 추출 과정\n",
    "1. Python에서 Tesseract-OCR 설치 및 사용\n",
    "\"\"\"\n",
    "\n",
    "file_name = 'img/test_image.PNG'\n",
    "\n",
    "from PIL import Image\n",
    "import pytesseract\n",
    "\n",
    "\n",
    "\n",
    "# 젤먼저 pytesseract가 어딨는지 경로 설정 필요\n",
    "pytesseract.pytesseract.tesseract_cmd = r'C:\\Program Files\\Tesseract-OCR\\tesseract.exe'\n",
    "\n",
    "img = Image.open(file_name)#.convert('L')\n",
    "\n",
    "text = pytesseract.image_to_string(img, lang='kor')\n",
    "\n",
    "print(text.replace(\" \", \"\"))"
   ]
  }
 ],
 "metadata": {
  "kernelspec": {
   "display_name": "Python 3",
   "language": "python",
   "name": "python3"
  },
  "language_info": {
   "codemirror_mode": {
    "name": "ipython",
    "version": 3
   },
   "file_extension": ".py",
   "mimetype": "text/x-python",
   "name": "python",
   "nbconvert_exporter": "python",
   "pygments_lexer": "ipython3",
   "version": "3.7.5"
  }
 },
 "nbformat": 4,
 "nbformat_minor": 4
}
